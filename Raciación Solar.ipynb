{
 "cells": [
  {
   "cell_type": "code",
   "execution_count": 1,
   "metadata": {},
   "outputs": [
    {
     "name": "stdout",
     "output_type": "stream",
     "text": [
      "Warning: Your Kaggle API key is readable by other users on this system! To fix this, you can run 'chmod 600 /Users/al/.kaggle/kaggle.json'\n"
     ]
    }
   ],
   "source": [
    "import pandas as pd\n",
    "import numpy as np\n",
    "import kaggle\n",
    "import zipfile\n",
    "from sklearn.model_selection import train_test_split\n",
    "from sklearn.metrics import r2_score\n",
    "from tqdm import tqdm\n",
    "\n",
    "import warnings\n",
    "warnings.simplefilter('ignore')"
   ]
  },
  {
   "cell_type": "markdown",
   "metadata": {},
   "source": [
    "# 1. Identificación del Problema"
   ]
  },
  {
   "cell_type": "markdown",
   "metadata": {},
   "source": [
    "Predecir la radiación solar basandose en la velocidad y dirección del viento, humedad y temperatura con  4 meses de datos."
   ]
  },
  {
   "cell_type": "markdown",
   "metadata": {},
   "source": [
    "# 2. Búsqueda de datos"
   ]
  },
  {
   "cell_type": "markdown",
   "metadata": {},
   "source": [
    "Los datos se entregan en las bases de la competencia y mediante el API que será el medio utilizado\n",
    "\n",
    "https://www.kaggle.com/c/datamex0120\n",
    "\n",
    "API: kaggle competitions download -c datamex0120"
   ]
  },
  {
   "cell_type": "code",
   "execution_count": 2,
   "metadata": {},
   "outputs": [
    {
     "data": {
      "text/plain": [
       "[{'ref': 'solar_test.csv',\n",
       "  'description': None,\n",
       "  'name': 'solar_test.csv',\n",
       "  'totalBytes': 726642,\n",
       "  'url': 'https://www.kaggle.com/',\n",
       "  'creationDate': '2020-02-11T22:28:05.6358912Z'},\n",
       " {'ref': 'submission_example..csv',\n",
       "  'description': None,\n",
       "  'name': 'submission_example..csv',\n",
       "  'totalBytes': 187689,\n",
       "  'url': 'https://www.kaggle.com/',\n",
       "  'creationDate': '2020-02-11T22:28:05.6358912Z'},\n",
       " {'ref': 'solar_train.csv',\n",
       "  'description': None,\n",
       "  'name': 'solar_train.csv',\n",
       "  'totalBytes': 2201144,\n",
       "  'url': 'https://www.kaggle.com/',\n",
       "  'creationDate': '2020-02-11T22:28:05.6358912Z'}]"
      ]
     },
     "execution_count": 2,
     "metadata": {},
     "output_type": "execute_result"
    }
   ],
   "source": [
    "kaggle.api.competitions_data_list_files('datamex0120')"
   ]
  },
  {
   "cell_type": "code",
   "execution_count": 3,
   "metadata": {},
   "outputs": [],
   "source": [
    "#Descarga de Archivos\n",
    "kaggle.api.competition_download_files('datamex0120')"
   ]
  },
  {
   "cell_type": "code",
   "execution_count": 4,
   "metadata": {},
   "outputs": [],
   "source": [
    "#Carga de Dataframes\n",
    "zf=zipfile.ZipFile('datamex0120.zip')\n",
    "\n",
    "solar_train=pd.read_csv(zf.open('solar_train.csv'))\n",
    "solar_test=pd.read_csv(zf.open('solar_test.csv'))\n",
    "sub_ex=pd.read_csv(zf.open('submission_example..csv'))\n"
   ]
  },
  {
   "cell_type": "code",
   "execution_count": 5,
   "metadata": {},
   "outputs": [],
   "source": [
    "#Carga de Dataframes\n",
    "zf=zipfile.ZipFile('datamex0120.zip')\n",
    "\n",
    "solar_train=pd.read_csv(zf.open('solar_train.csv'))\n",
    "solar_test=pd.read_csv(zf.open('solar_test.csv'))\n",
    "sub_ex=pd.read_csv(zf.open('submission_example..csv'))"
   ]
  },
  {
   "cell_type": "markdown",
   "metadata": {},
   "source": [
    "# 3. Limpieza Dataset"
   ]
  },
  {
   "cell_type": "markdown",
   "metadata": {},
   "source": [
    "## 3.1. Exploración de datos"
   ]
  },
  {
   "cell_type": "code",
   "execution_count": 6,
   "metadata": {},
   "outputs": [
    {
     "name": "stdout",
     "output_type": "stream",
     "text": [
      "<class 'pandas.core.frame.DataFrame'>\n",
      "RangeIndex: 24514 entries, 0 to 24513\n",
      "Data columns (total 11 columns):\n",
      "UNIXTime                  24514 non-null int64\n",
      "Data                      24514 non-null object\n",
      "Time                      24514 non-null object\n",
      "Radiation                 24514 non-null float64\n",
      "Temperature               24514 non-null int64\n",
      "Pressure                  24514 non-null float64\n",
      "Humidity                  24514 non-null int64\n",
      "WindDirection(Degrees)    24514 non-null float64\n",
      "Speed                     24514 non-null float64\n",
      "TimeSunRise               24514 non-null object\n",
      "TimeSunSet                24514 non-null object\n",
      "dtypes: float64(4), int64(3), object(4)\n",
      "memory usage: 2.1+ MB\n"
     ]
    }
   ],
   "source": [
    "solar_train.info()"
   ]
  },
  {
   "cell_type": "code",
   "execution_count": 7,
   "metadata": {},
   "outputs": [
    {
     "name": "stdout",
     "output_type": "stream",
     "text": [
      "<class 'pandas.core.frame.DataFrame'>\n",
      "RangeIndex: 8172 entries, 0 to 8171\n",
      "Data columns (total 11 columns):\n",
      "id                        8172 non-null int64\n",
      "UNIXTime                  8172 non-null int64\n",
      "Data                      8172 non-null object\n",
      "Time                      8172 non-null object\n",
      "Temperature               8172 non-null int64\n",
      "Pressure                  8172 non-null float64\n",
      "Humidity                  8172 non-null int64\n",
      "WindDirection(Degrees)    8172 non-null float64\n",
      "Speed                     8172 non-null float64\n",
      "TimeSunRise               8172 non-null object\n",
      "TimeSunSet                8172 non-null object\n",
      "dtypes: float64(3), int64(4), object(4)\n",
      "memory usage: 702.4+ KB\n"
     ]
    }
   ],
   "source": [
    "solar_test.info()"
   ]
  },
  {
   "cell_type": "code",
   "execution_count": 8,
   "metadata": {},
   "outputs": [
    {
     "name": "stdout",
     "output_type": "stream",
     "text": [
      "<class 'pandas.core.frame.DataFrame'>\n",
      "RangeIndex: 8172 entries, 0 to 8171\n",
      "Data columns (total 2 columns):\n",
      "id           8172 non-null int64\n",
      "Radiation    8172 non-null float64\n",
      "dtypes: float64(1), int64(1)\n",
      "memory usage: 127.8 KB\n"
     ]
    }
   ],
   "source": [
    "sub_ex.info()"
   ]
  },
  {
   "cell_type": "code",
   "execution_count": 9,
   "metadata": {},
   "outputs": [
    {
     "data": {
      "text/html": [
       "<div>\n",
       "<style scoped>\n",
       "    .dataframe tbody tr th:only-of-type {\n",
       "        vertical-align: middle;\n",
       "    }\n",
       "\n",
       "    .dataframe tbody tr th {\n",
       "        vertical-align: top;\n",
       "    }\n",
       "\n",
       "    .dataframe thead th {\n",
       "        text-align: right;\n",
       "    }\n",
       "</style>\n",
       "<table border=\"1\" class=\"dataframe\">\n",
       "  <thead>\n",
       "    <tr style=\"text-align: right;\">\n",
       "      <th></th>\n",
       "      <th>index</th>\n",
       "      <th>UNIXTime</th>\n",
       "      <th>Radiation</th>\n",
       "      <th>Temperature</th>\n",
       "      <th>Pressure</th>\n",
       "      <th>Humidity</th>\n",
       "      <th>WindDirection(Degrees)</th>\n",
       "      <th>Speed</th>\n",
       "    </tr>\n",
       "  </thead>\n",
       "  <tbody>\n",
       "    <tr>\n",
       "      <th>0</th>\n",
       "      <td>1673</td>\n",
       "      <td>1472724008</td>\n",
       "      <td>2.58</td>\n",
       "      <td>51</td>\n",
       "      <td>30.43</td>\n",
       "      <td>103</td>\n",
       "      <td>77.27</td>\n",
       "      <td>11.25</td>\n",
       "    </tr>\n",
       "    <tr>\n",
       "      <th>1</th>\n",
       "      <td>19219</td>\n",
       "      <td>1472724310</td>\n",
       "      <td>2.83</td>\n",
       "      <td>51</td>\n",
       "      <td>30.43</td>\n",
       "      <td>103</td>\n",
       "      <td>153.44</td>\n",
       "      <td>9.00</td>\n",
       "    </tr>\n",
       "    <tr>\n",
       "      <th>2</th>\n",
       "      <td>5516</td>\n",
       "      <td>1472725505</td>\n",
       "      <td>2.21</td>\n",
       "      <td>51</td>\n",
       "      <td>30.43</td>\n",
       "      <td>103</td>\n",
       "      <td>144.12</td>\n",
       "      <td>18.00</td>\n",
       "    </tr>\n",
       "    <tr>\n",
       "      <th>3</th>\n",
       "      <td>12019</td>\n",
       "      <td>1472725809</td>\n",
       "      <td>2.25</td>\n",
       "      <td>51</td>\n",
       "      <td>30.43</td>\n",
       "      <td>103</td>\n",
       "      <td>67.42</td>\n",
       "      <td>11.25</td>\n",
       "    </tr>\n",
       "    <tr>\n",
       "      <th>4</th>\n",
       "      <td>7888</td>\n",
       "      <td>1472726704</td>\n",
       "      <td>2.15</td>\n",
       "      <td>51</td>\n",
       "      <td>30.43</td>\n",
       "      <td>103</td>\n",
       "      <td>67.85</td>\n",
       "      <td>4.50</td>\n",
       "    </tr>\n",
       "  </tbody>\n",
       "</table>\n",
       "</div>"
      ],
      "text/plain": [
       "   index    UNIXTime  Radiation  Temperature  Pressure  Humidity  \\\n",
       "0   1673  1472724008       2.58           51     30.43       103   \n",
       "1  19219  1472724310       2.83           51     30.43       103   \n",
       "2   5516  1472725505       2.21           51     30.43       103   \n",
       "3  12019  1472725809       2.25           51     30.43       103   \n",
       "4   7888  1472726704       2.15           51     30.43       103   \n",
       "\n",
       "   WindDirection(Degrees)  Speed  \n",
       "0                   77.27  11.25  \n",
       "1                  153.44   9.00  \n",
       "2                  144.12  18.00  \n",
       "3                   67.42  11.25  \n",
       "4                   67.85   4.50  "
      ]
     },
     "execution_count": 9,
     "metadata": {},
     "output_type": "execute_result"
    }
   ],
   "source": [
    "#Orden por tiempo, eliminacion de Fecha, hora, salida y puesta del sol, ya que no son relevantes o repetitivas\n",
    "#Lo anterior es basado en el \"conocimiento\" del problema, ya que la fecha y hora esta dada proporcionalmente\n",
    "#en la variable UNIXTime, y la puesta y salida del sol es una medida en relación a la observacion desde la tierra\n",
    "#lo que se considera despreciable en cuanto a lo que pueda influir en este tema.\n",
    "\n",
    "solar_train=solar_train.sort_values(by='UNIXTime')\n",
    "solar_train.drop(columns=['Data','Time','TimeSunRise','TimeSunSet'], inplace=True)\n",
    "solar_train.reset_index(inplace=True)\n",
    "solar_train.head()"
   ]
  },
  {
   "cell_type": "code",
   "execution_count": 10,
   "metadata": {},
   "outputs": [
    {
     "data": {
      "text/html": [
       "<div>\n",
       "<style scoped>\n",
       "    .dataframe tbody tr th:only-of-type {\n",
       "        vertical-align: middle;\n",
       "    }\n",
       "\n",
       "    .dataframe tbody tr th {\n",
       "        vertical-align: top;\n",
       "    }\n",
       "\n",
       "    .dataframe thead th {\n",
       "        text-align: right;\n",
       "    }\n",
       "</style>\n",
       "<table border=\"1\" class=\"dataframe\">\n",
       "  <thead>\n",
       "    <tr style=\"text-align: right;\">\n",
       "      <th></th>\n",
       "      <th>index</th>\n",
       "      <th>UNIXTime</th>\n",
       "      <th>Radiation</th>\n",
       "      <th>Temperature</th>\n",
       "      <th>Pressure</th>\n",
       "      <th>Humidity</th>\n",
       "      <th>WindDirection(Degrees)</th>\n",
       "      <th>Speed</th>\n",
       "    </tr>\n",
       "  </thead>\n",
       "  <tbody>\n",
       "    <tr>\n",
       "      <th>0</th>\n",
       "      <td>1673</td>\n",
       "      <td>1472724008</td>\n",
       "      <td>2.58</td>\n",
       "      <td>51</td>\n",
       "      <td>30.43</td>\n",
       "      <td>103</td>\n",
       "      <td>77.27</td>\n",
       "      <td>11.25</td>\n",
       "    </tr>\n",
       "    <tr>\n",
       "      <th>1</th>\n",
       "      <td>19219</td>\n",
       "      <td>1472724310</td>\n",
       "      <td>2.83</td>\n",
       "      <td>51</td>\n",
       "      <td>30.43</td>\n",
       "      <td>103</td>\n",
       "      <td>153.44</td>\n",
       "      <td>9.00</td>\n",
       "    </tr>\n",
       "    <tr>\n",
       "      <th>2</th>\n",
       "      <td>5516</td>\n",
       "      <td>1472725505</td>\n",
       "      <td>2.21</td>\n",
       "      <td>51</td>\n",
       "      <td>30.43</td>\n",
       "      <td>103</td>\n",
       "      <td>144.12</td>\n",
       "      <td>18.00</td>\n",
       "    </tr>\n",
       "    <tr>\n",
       "      <th>3</th>\n",
       "      <td>12019</td>\n",
       "      <td>1472725809</td>\n",
       "      <td>2.25</td>\n",
       "      <td>51</td>\n",
       "      <td>30.43</td>\n",
       "      <td>103</td>\n",
       "      <td>67.42</td>\n",
       "      <td>11.25</td>\n",
       "    </tr>\n",
       "    <tr>\n",
       "      <th>4</th>\n",
       "      <td>7888</td>\n",
       "      <td>1472726704</td>\n",
       "      <td>2.15</td>\n",
       "      <td>51</td>\n",
       "      <td>30.43</td>\n",
       "      <td>103</td>\n",
       "      <td>67.85</td>\n",
       "      <td>4.50</td>\n",
       "    </tr>\n",
       "  </tbody>\n",
       "</table>\n",
       "</div>"
      ],
      "text/plain": [
       "   index    UNIXTime  Radiation  Temperature  Pressure  Humidity  \\\n",
       "0   1673  1472724008       2.58           51     30.43       103   \n",
       "1  19219  1472724310       2.83           51     30.43       103   \n",
       "2   5516  1472725505       2.21           51     30.43       103   \n",
       "3  12019  1472725809       2.25           51     30.43       103   \n",
       "4   7888  1472726704       2.15           51     30.43       103   \n",
       "\n",
       "   WindDirection(Degrees)  Speed  \n",
       "0                   77.27  11.25  \n",
       "1                  153.44   9.00  \n",
       "2                  144.12  18.00  \n",
       "3                   67.42  11.25  \n",
       "4                   67.85   4.50  "
      ]
     },
     "execution_count": 10,
     "metadata": {},
     "output_type": "execute_result"
    }
   ],
   "source": [
    "#Hologación de columnas con respecto al conjunto de datos \"train\". Se mantiene el ID para identificación\n",
    "solar_test.drop(columns=['Data','Time','TimeSunRise','TimeSunSet'], inplace=True)\n",
    "solar_train.head()"
   ]
  },
  {
   "cell_type": "code",
   "execution_count": 11,
   "metadata": {},
   "outputs": [
    {
     "name": "stdout",
     "output_type": "stream",
     "text": [
      "1472724008\n"
     ]
    }
   ],
   "source": [
    "#Normalizacion del tiempo\n",
    "#El tiempo se normaliza usando el màximo y el mìnimo y restando el mínimo para tener un tiempo relativo de origen\n",
    "tmin_train=solar_train.UNIXTime.min()\n",
    "tmin_test=solar_test.UNIXTime.min()\n",
    "tmin=min(tmin_train,tmin_test)\n",
    "print(tmin)"
   ]
  },
  {
   "cell_type": "code",
   "execution_count": 12,
   "metadata": {},
   "outputs": [],
   "source": [
    "solar_train.UNIXTime = solar_train.UNIXTime - tmin\n",
    "solar_test.UNIXTime = solar_test.UNIXTime - tmin"
   ]
  },
  {
   "cell_type": "code",
   "execution_count": 13,
   "metadata": {},
   "outputs": [
    {
     "data": {
      "text/html": [
       "<div>\n",
       "<style scoped>\n",
       "    .dataframe tbody tr th:only-of-type {\n",
       "        vertical-align: middle;\n",
       "    }\n",
       "\n",
       "    .dataframe tbody tr th {\n",
       "        vertical-align: top;\n",
       "    }\n",
       "\n",
       "    .dataframe thead th {\n",
       "        text-align: right;\n",
       "    }\n",
       "</style>\n",
       "<table border=\"1\" class=\"dataframe\">\n",
       "  <thead>\n",
       "    <tr style=\"text-align: right;\">\n",
       "      <th></th>\n",
       "      <th>id</th>\n",
       "      <th>UNIXTime</th>\n",
       "      <th>Temperature</th>\n",
       "      <th>Pressure</th>\n",
       "      <th>Humidity</th>\n",
       "      <th>WindDirection(Degrees)</th>\n",
       "      <th>Speed</th>\n",
       "    </tr>\n",
       "  </thead>\n",
       "  <tbody>\n",
       "    <tr>\n",
       "      <th>0</th>\n",
       "      <td>0</td>\n",
       "      <td>5996099</td>\n",
       "      <td>59</td>\n",
       "      <td>30.47</td>\n",
       "      <td>44</td>\n",
       "      <td>312.67</td>\n",
       "      <td>3.37</td>\n",
       "    </tr>\n",
       "    <tr>\n",
       "      <th>1</th>\n",
       "      <td>1</td>\n",
       "      <td>1339495</td>\n",
       "      <td>59</td>\n",
       "      <td>30.48</td>\n",
       "      <td>83</td>\n",
       "      <td>38.01</td>\n",
       "      <td>6.75</td>\n",
       "    </tr>\n",
       "    <tr>\n",
       "      <th>2</th>\n",
       "      <td>2</td>\n",
       "      <td>3385213</td>\n",
       "      <td>47</td>\n",
       "      <td>30.39</td>\n",
       "      <td>78</td>\n",
       "      <td>213.62</td>\n",
       "      <td>5.62</td>\n",
       "    </tr>\n",
       "    <tr>\n",
       "      <th>3</th>\n",
       "      <td>3</td>\n",
       "      <td>8751048</td>\n",
       "      <td>45</td>\n",
       "      <td>30.40</td>\n",
       "      <td>98</td>\n",
       "      <td>176.63</td>\n",
       "      <td>4.50</td>\n",
       "    </tr>\n",
       "    <tr>\n",
       "      <th>4</th>\n",
       "      <td>4</td>\n",
       "      <td>4769109</td>\n",
       "      <td>45</td>\n",
       "      <td>30.40</td>\n",
       "      <td>34</td>\n",
       "      <td>175.89</td>\n",
       "      <td>6.75</td>\n",
       "    </tr>\n",
       "  </tbody>\n",
       "</table>\n",
       "</div>"
      ],
      "text/plain": [
       "   id  UNIXTime  Temperature  Pressure  Humidity  WindDirection(Degrees)  \\\n",
       "0   0   5996099           59     30.47        44                  312.67   \n",
       "1   1   1339495           59     30.48        83                   38.01   \n",
       "2   2   3385213           47     30.39        78                  213.62   \n",
       "3   3   8751048           45     30.40        98                  176.63   \n",
       "4   4   4769109           45     30.40        34                  175.89   \n",
       "\n",
       "   Speed  \n",
       "0   3.37  \n",
       "1   6.75  \n",
       "2   5.62  \n",
       "3   4.50  \n",
       "4   6.75  "
      ]
     },
     "execution_count": 13,
     "metadata": {},
     "output_type": "execute_result"
    }
   ],
   "source": [
    "solar_test.head()"
   ]
  },
  {
   "cell_type": "code",
   "execution_count": 14,
   "metadata": {},
   "outputs": [
    {
     "data": {
      "text/html": [
       "<div>\n",
       "<style scoped>\n",
       "    .dataframe tbody tr th:only-of-type {\n",
       "        vertical-align: middle;\n",
       "    }\n",
       "\n",
       "    .dataframe tbody tr th {\n",
       "        vertical-align: top;\n",
       "    }\n",
       "\n",
       "    .dataframe thead th {\n",
       "        text-align: right;\n",
       "    }\n",
       "</style>\n",
       "<table border=\"1\" class=\"dataframe\">\n",
       "  <thead>\n",
       "    <tr style=\"text-align: right;\">\n",
       "      <th></th>\n",
       "      <th>index</th>\n",
       "      <th>UNIXTime</th>\n",
       "      <th>Radiation</th>\n",
       "      <th>Temperature</th>\n",
       "      <th>Pressure</th>\n",
       "      <th>Humidity</th>\n",
       "      <th>WindDirection(Degrees)</th>\n",
       "      <th>Speed</th>\n",
       "    </tr>\n",
       "  </thead>\n",
       "  <tbody>\n",
       "    <tr>\n",
       "      <th>0</th>\n",
       "      <td>1673</td>\n",
       "      <td>0</td>\n",
       "      <td>2.58</td>\n",
       "      <td>51</td>\n",
       "      <td>30.43</td>\n",
       "      <td>103</td>\n",
       "      <td>77.27</td>\n",
       "      <td>11.25</td>\n",
       "    </tr>\n",
       "    <tr>\n",
       "      <th>1</th>\n",
       "      <td>19219</td>\n",
       "      <td>302</td>\n",
       "      <td>2.83</td>\n",
       "      <td>51</td>\n",
       "      <td>30.43</td>\n",
       "      <td>103</td>\n",
       "      <td>153.44</td>\n",
       "      <td>9.00</td>\n",
       "    </tr>\n",
       "    <tr>\n",
       "      <th>2</th>\n",
       "      <td>5516</td>\n",
       "      <td>1497</td>\n",
       "      <td>2.21</td>\n",
       "      <td>51</td>\n",
       "      <td>30.43</td>\n",
       "      <td>103</td>\n",
       "      <td>144.12</td>\n",
       "      <td>18.00</td>\n",
       "    </tr>\n",
       "    <tr>\n",
       "      <th>3</th>\n",
       "      <td>12019</td>\n",
       "      <td>1801</td>\n",
       "      <td>2.25</td>\n",
       "      <td>51</td>\n",
       "      <td>30.43</td>\n",
       "      <td>103</td>\n",
       "      <td>67.42</td>\n",
       "      <td>11.25</td>\n",
       "    </tr>\n",
       "    <tr>\n",
       "      <th>4</th>\n",
       "      <td>7888</td>\n",
       "      <td>2696</td>\n",
       "      <td>2.15</td>\n",
       "      <td>51</td>\n",
       "      <td>30.43</td>\n",
       "      <td>103</td>\n",
       "      <td>67.85</td>\n",
       "      <td>4.50</td>\n",
       "    </tr>\n",
       "  </tbody>\n",
       "</table>\n",
       "</div>"
      ],
      "text/plain": [
       "   index  UNIXTime  Radiation  Temperature  Pressure  Humidity  \\\n",
       "0   1673         0       2.58           51     30.43       103   \n",
       "1  19219       302       2.83           51     30.43       103   \n",
       "2   5516      1497       2.21           51     30.43       103   \n",
       "3  12019      1801       2.25           51     30.43       103   \n",
       "4   7888      2696       2.15           51     30.43       103   \n",
       "\n",
       "   WindDirection(Degrees)  Speed  \n",
       "0                   77.27  11.25  \n",
       "1                  153.44   9.00  \n",
       "2                  144.12  18.00  \n",
       "3                   67.42  11.25  \n",
       "4                   67.85   4.50  "
      ]
     },
     "execution_count": 14,
     "metadata": {},
     "output_type": "execute_result"
    }
   ],
   "source": [
    "solar_train.head()"
   ]
  },
  {
   "cell_type": "code",
   "execution_count": 15,
   "metadata": {},
   "outputs": [
    {
     "data": {
      "text/html": [
       "<div>\n",
       "<style scoped>\n",
       "    .dataframe tbody tr th:only-of-type {\n",
       "        vertical-align: middle;\n",
       "    }\n",
       "\n",
       "    .dataframe tbody tr th {\n",
       "        vertical-align: top;\n",
       "    }\n",
       "\n",
       "    .dataframe thead th {\n",
       "        text-align: right;\n",
       "    }\n",
       "</style>\n",
       "<table border=\"1\" class=\"dataframe\">\n",
       "  <thead>\n",
       "    <tr style=\"text-align: right;\">\n",
       "      <th></th>\n",
       "      <th>index</th>\n",
       "      <th>UNIXTime</th>\n",
       "      <th>Radiation</th>\n",
       "      <th>Temperature</th>\n",
       "      <th>Pressure</th>\n",
       "      <th>Humidity</th>\n",
       "      <th>WindDirection(Degrees)</th>\n",
       "      <th>Speed</th>\n",
       "    </tr>\n",
       "  </thead>\n",
       "  <tbody>\n",
       "    <tr>\n",
       "      <th>count</th>\n",
       "      <td>24514.000000</td>\n",
       "      <td>2.451400e+04</td>\n",
       "      <td>24514.000000</td>\n",
       "      <td>24514.000000</td>\n",
       "      <td>24514.000000</td>\n",
       "      <td>24514.000000</td>\n",
       "      <td>24514.000000</td>\n",
       "      <td>24514.000000</td>\n",
       "    </tr>\n",
       "    <tr>\n",
       "      <th>mean</th>\n",
       "      <td>12256.500000</td>\n",
       "      <td>5.324515e+06</td>\n",
       "      <td>208.062687</td>\n",
       "      <td>51.105287</td>\n",
       "      <td>30.422713</td>\n",
       "      <td>75.002284</td>\n",
       "      <td>143.129305</td>\n",
       "      <td>6.248435</td>\n",
       "    </tr>\n",
       "    <tr>\n",
       "      <th>std</th>\n",
       "      <td>7076.726586</td>\n",
       "      <td>3.006914e+06</td>\n",
       "      <td>316.133238</td>\n",
       "      <td>6.214280</td>\n",
       "      <td>0.054754</td>\n",
       "      <td>25.999994</td>\n",
       "      <td>82.939584</td>\n",
       "      <td>3.482597</td>\n",
       "    </tr>\n",
       "    <tr>\n",
       "      <th>min</th>\n",
       "      <td>0.000000</td>\n",
       "      <td>0.000000e+00</td>\n",
       "      <td>1.130000</td>\n",
       "      <td>34.000000</td>\n",
       "      <td>30.190000</td>\n",
       "      <td>11.000000</td>\n",
       "      <td>0.090000</td>\n",
       "      <td>0.000000</td>\n",
       "    </tr>\n",
       "    <tr>\n",
       "      <th>25%</th>\n",
       "      <td>6128.250000</td>\n",
       "      <td>2.808461e+06</td>\n",
       "      <td>1.230000</td>\n",
       "      <td>46.000000</td>\n",
       "      <td>30.400000</td>\n",
       "      <td>55.000000</td>\n",
       "      <td>81.872500</td>\n",
       "      <td>3.370000</td>\n",
       "    </tr>\n",
       "    <tr>\n",
       "      <th>50%</th>\n",
       "      <td>12256.500000</td>\n",
       "      <td>5.323360e+06</td>\n",
       "      <td>2.720000</td>\n",
       "      <td>50.000000</td>\n",
       "      <td>30.430000</td>\n",
       "      <td>85.000000</td>\n",
       "      <td>147.585000</td>\n",
       "      <td>5.620000</td>\n",
       "    </tr>\n",
       "    <tr>\n",
       "      <th>75%</th>\n",
       "      <td>18384.750000</td>\n",
       "      <td>7.757619e+06</td>\n",
       "      <td>359.927500</td>\n",
       "      <td>55.000000</td>\n",
       "      <td>30.460000</td>\n",
       "      <td>97.000000</td>\n",
       "      <td>179.217500</td>\n",
       "      <td>7.870000</td>\n",
       "    </tr>\n",
       "    <tr>\n",
       "      <th>max</th>\n",
       "      <td>24513.000000</td>\n",
       "      <td>1.054049e+07</td>\n",
       "      <td>1601.260000</td>\n",
       "      <td>71.000000</td>\n",
       "      <td>30.560000</td>\n",
       "      <td>103.000000</td>\n",
       "      <td>359.950000</td>\n",
       "      <td>39.370000</td>\n",
       "    </tr>\n",
       "  </tbody>\n",
       "</table>\n",
       "</div>"
      ],
      "text/plain": [
       "              index      UNIXTime     Radiation   Temperature      Pressure  \\\n",
       "count  24514.000000  2.451400e+04  24514.000000  24514.000000  24514.000000   \n",
       "mean   12256.500000  5.324515e+06    208.062687     51.105287     30.422713   \n",
       "std     7076.726586  3.006914e+06    316.133238      6.214280      0.054754   \n",
       "min        0.000000  0.000000e+00      1.130000     34.000000     30.190000   \n",
       "25%     6128.250000  2.808461e+06      1.230000     46.000000     30.400000   \n",
       "50%    12256.500000  5.323360e+06      2.720000     50.000000     30.430000   \n",
       "75%    18384.750000  7.757619e+06    359.927500     55.000000     30.460000   \n",
       "max    24513.000000  1.054049e+07   1601.260000     71.000000     30.560000   \n",
       "\n",
       "           Humidity  WindDirection(Degrees)         Speed  \n",
       "count  24514.000000            24514.000000  24514.000000  \n",
       "mean      75.002284              143.129305      6.248435  \n",
       "std       25.999994               82.939584      3.482597  \n",
       "min       11.000000                0.090000      0.000000  \n",
       "25%       55.000000               81.872500      3.370000  \n",
       "50%       85.000000              147.585000      5.620000  \n",
       "75%       97.000000              179.217500      7.870000  \n",
       "max      103.000000              359.950000     39.370000  "
      ]
     },
     "execution_count": 15,
     "metadata": {},
     "output_type": "execute_result"
    }
   ],
   "source": [
    "solar_train.describe()"
   ]
  },
  {
   "cell_type": "code",
   "execution_count": 16,
   "metadata": {},
   "outputs": [
    {
     "data": {
      "text/html": [
       "<div>\n",
       "<style scoped>\n",
       "    .dataframe tbody tr th:only-of-type {\n",
       "        vertical-align: middle;\n",
       "    }\n",
       "\n",
       "    .dataframe tbody tr th {\n",
       "        vertical-align: top;\n",
       "    }\n",
       "\n",
       "    .dataframe thead th {\n",
       "        text-align: right;\n",
       "    }\n",
       "</style>\n",
       "<table border=\"1\" class=\"dataframe\">\n",
       "  <thead>\n",
       "    <tr style=\"text-align: right;\">\n",
       "      <th></th>\n",
       "      <th>index</th>\n",
       "      <th>UNIXTime</th>\n",
       "      <th>Radiation</th>\n",
       "      <th>Temperature</th>\n",
       "      <th>Pressure</th>\n",
       "      <th>Humidity</th>\n",
       "      <th>WindDirection(Degrees)</th>\n",
       "      <th>Speed</th>\n",
       "    </tr>\n",
       "  </thead>\n",
       "  <tbody>\n",
       "    <tr>\n",
       "      <th>0</th>\n",
       "      <td>1673</td>\n",
       "      <td>0</td>\n",
       "      <td>2.58</td>\n",
       "      <td>51</td>\n",
       "      <td>30.43</td>\n",
       "      <td>103</td>\n",
       "      <td>77.27</td>\n",
       "      <td>11.25</td>\n",
       "    </tr>\n",
       "    <tr>\n",
       "      <th>1</th>\n",
       "      <td>19219</td>\n",
       "      <td>302</td>\n",
       "      <td>2.83</td>\n",
       "      <td>51</td>\n",
       "      <td>30.43</td>\n",
       "      <td>103</td>\n",
       "      <td>153.44</td>\n",
       "      <td>9.00</td>\n",
       "    </tr>\n",
       "    <tr>\n",
       "      <th>3</th>\n",
       "      <td>12019</td>\n",
       "      <td>1801</td>\n",
       "      <td>2.25</td>\n",
       "      <td>51</td>\n",
       "      <td>30.43</td>\n",
       "      <td>103</td>\n",
       "      <td>67.42</td>\n",
       "      <td>11.25</td>\n",
       "    </tr>\n",
       "    <tr>\n",
       "      <th>4</th>\n",
       "      <td>7888</td>\n",
       "      <td>2696</td>\n",
       "      <td>2.15</td>\n",
       "      <td>51</td>\n",
       "      <td>30.43</td>\n",
       "      <td>103</td>\n",
       "      <td>67.85</td>\n",
       "      <td>4.50</td>\n",
       "    </tr>\n",
       "    <tr>\n",
       "      <th>5</th>\n",
       "      <td>11281</td>\n",
       "      <td>2998</td>\n",
       "      <td>2.07</td>\n",
       "      <td>51</td>\n",
       "      <td>30.43</td>\n",
       "      <td>103</td>\n",
       "      <td>156.58</td>\n",
       "      <td>1.12</td>\n",
       "    </tr>\n",
       "    <tr>\n",
       "      <th>...</th>\n",
       "      <td>...</td>\n",
       "      <td>...</td>\n",
       "      <td>...</td>\n",
       "      <td>...</td>\n",
       "      <td>...</td>\n",
       "      <td>...</td>\n",
       "      <td>...</td>\n",
       "      <td>...</td>\n",
       "    </tr>\n",
       "    <tr>\n",
       "      <th>24509</th>\n",
       "      <td>1041</td>\n",
       "      <td>10539294</td>\n",
       "      <td>1.22</td>\n",
       "      <td>41</td>\n",
       "      <td>30.34</td>\n",
       "      <td>83</td>\n",
       "      <td>238.94</td>\n",
       "      <td>6.75</td>\n",
       "    </tr>\n",
       "    <tr>\n",
       "      <th>24510</th>\n",
       "      <td>5169</td>\n",
       "      <td>10539593</td>\n",
       "      <td>1.21</td>\n",
       "      <td>41</td>\n",
       "      <td>30.34</td>\n",
       "      <td>82</td>\n",
       "      <td>236.79</td>\n",
       "      <td>5.62</td>\n",
       "    </tr>\n",
       "    <tr>\n",
       "      <th>24511</th>\n",
       "      <td>8494</td>\n",
       "      <td>10539896</td>\n",
       "      <td>1.21</td>\n",
       "      <td>42</td>\n",
       "      <td>30.34</td>\n",
       "      <td>81</td>\n",
       "      <td>218.28</td>\n",
       "      <td>7.87</td>\n",
       "    </tr>\n",
       "    <tr>\n",
       "      <th>24512</th>\n",
       "      <td>13576</td>\n",
       "      <td>10540195</td>\n",
       "      <td>1.19</td>\n",
       "      <td>41</td>\n",
       "      <td>30.34</td>\n",
       "      <td>80</td>\n",
       "      <td>215.23</td>\n",
       "      <td>7.87</td>\n",
       "    </tr>\n",
       "    <tr>\n",
       "      <th>24513</th>\n",
       "      <td>5105</td>\n",
       "      <td>10540493</td>\n",
       "      <td>1.21</td>\n",
       "      <td>41</td>\n",
       "      <td>30.34</td>\n",
       "      <td>81</td>\n",
       "      <td>215.56</td>\n",
       "      <td>9.00</td>\n",
       "    </tr>\n",
       "  </tbody>\n",
       "</table>\n",
       "<p>21389 rows × 8 columns</p>\n",
       "</div>"
      ],
      "text/plain": [
       "       index  UNIXTime  Radiation  Temperature  Pressure  Humidity  \\\n",
       "0       1673         0       2.58           51     30.43       103   \n",
       "1      19219       302       2.83           51     30.43       103   \n",
       "3      12019      1801       2.25           51     30.43       103   \n",
       "4       7888      2696       2.15           51     30.43       103   \n",
       "5      11281      2998       2.07           51     30.43       103   \n",
       "...      ...       ...        ...          ...       ...       ...   \n",
       "24509   1041  10539294       1.22           41     30.34        83   \n",
       "24510   5169  10539593       1.21           41     30.34        82   \n",
       "24511   8494  10539896       1.21           42     30.34        81   \n",
       "24512  13576  10540195       1.19           41     30.34        80   \n",
       "24513   5105  10540493       1.21           41     30.34        81   \n",
       "\n",
       "       WindDirection(Degrees)  Speed  \n",
       "0                       77.27  11.25  \n",
       "1                      153.44   9.00  \n",
       "3                       67.42  11.25  \n",
       "4                       67.85   4.50  \n",
       "5                      156.58   1.12  \n",
       "...                       ...    ...  \n",
       "24509                  238.94   6.75  \n",
       "24510                  236.79   5.62  \n",
       "24511                  218.28   7.87  \n",
       "24512                  215.23   7.87  \n",
       "24513                  215.56   9.00  \n",
       "\n",
       "[21389 rows x 8 columns]"
      ]
     },
     "execution_count": 16,
     "metadata": {},
     "output_type": "execute_result"
    }
   ],
   "source": [
    "#Eliminacion de Outliers\n",
    "\n",
    "IQR_Speed=solar_train.Speed.quantile(.75)-solar_train.Speed.quantile(.25)\n",
    "solar_train=solar_train[(solar_train.Speed <solar_train.Speed.mean()+\n",
    "                         1.5*IQR_Speed)&(solar_train.Speed >solar_train.Speed.mean()-1.5*IQR_Speed)]\n",
    "IQR_Pressure=solar_train.Pressure.quantile(.75)-solar_train.Pressure.quantile(.25)\n",
    "solar_train=solar_train[(solar_train.Pressure <solar_train.Pressure.mean()+\n",
    "                         1.5*IQR_Pressure)&(solar_train.Pressure >solar_train.Pressure.mean()-1.5*IQR_Pressure)]\n",
    "IQR_Temperature=solar_train.Temperature.quantile(.75)-solar_train.Temperature.quantile(.25)\n",
    "solar_train=solar_train[(solar_train.Temperature <solar_train.Temperature.mean()+\n",
    "                         1.5*IQR_Temperature)&(solar_train.Temperature >solar_train.Temperature.mean()-1.5*IQR_Temperature)]\n",
    "\n",
    "solar_train"
   ]
  },
  {
   "cell_type": "code",
   "execution_count": 17,
   "metadata": {},
   "outputs": [
    {
     "name": "stdout",
     "output_type": "stream",
     "text": [
      "<class 'pandas.core.frame.DataFrame'>\n",
      "Int64Index: 21389 entries, 0 to 24513\n",
      "Data columns (total 8 columns):\n",
      "index                     21389 non-null int64\n",
      "UNIXTime                  21389 non-null int64\n",
      "Radiation                 21389 non-null float64\n",
      "Temperature               21389 non-null int64\n",
      "Pressure                  21389 non-null float64\n",
      "Humidity                  21389 non-null int64\n",
      "WindDirection(Degrees)    21389 non-null float64\n",
      "Speed                     21389 non-null float64\n",
      "dtypes: float64(4), int64(4)\n",
      "memory usage: 1.5 MB\n"
     ]
    }
   ],
   "source": [
    "#Optimizando tipo de datos\n",
    "solar_train.info()"
   ]
  },
  {
   "cell_type": "code",
   "execution_count": 18,
   "metadata": {},
   "outputs": [
    {
     "name": "stdout",
     "output_type": "stream",
     "text": [
      "<class 'pandas.core.frame.DataFrame'>\n",
      "Int64Index: 21389 entries, 0 to 24513\n",
      "Data columns (total 8 columns):\n",
      "index                     21389 non-null int16\n",
      "UNIXTime                  21389 non-null int32\n",
      "Radiation                 21389 non-null float32\n",
      "Temperature               21389 non-null int8\n",
      "Pressure                  21389 non-null float32\n",
      "Humidity                  21389 non-null int8\n",
      "WindDirection(Degrees)    21389 non-null float32\n",
      "Speed                     21389 non-null float32\n",
      "dtypes: float32(4), int16(1), int32(1), int8(2)\n",
      "memory usage: 668.4 KB\n"
     ]
    }
   ],
   "source": [
    "for e in solar_train.select_dtypes('integer').columns:\n",
    "    solar_train[e]=pd.to_numeric(solar_train[e], downcast='integer')\n",
    "for e in solar_train.select_dtypes('float').columns:\n",
    "    solar_train[e]=pd.to_numeric(solar_train[e], downcast='float')\n",
    "solar_train.info()"
   ]
  },
  {
   "cell_type": "code",
   "execution_count": 19,
   "metadata": {},
   "outputs": [],
   "source": [
    "#Preparando conjuntos para entrenamiento y prueba\n",
    "X=solar_train.drop(columns='Radiation', axis=1)\n",
    "y=solar_train.Radiation\n",
    "\n",
    "#Conjuntos para prueba\n",
    "X_train, X_test, y_train, y_test=train_test_split(X, y, test_size=0.2)\n"
   ]
  },
  {
   "cell_type": "markdown",
   "metadata": {},
   "source": [
    "# 4. Definición de modelo"
   ]
  },
  {
   "cell_type": "markdown",
   "metadata": {},
   "source": [
    "## 4.1. Ejecución de modelos"
   ]
  },
  {
   "cell_type": "code",
   "execution_count": 21,
   "metadata": {},
   "outputs": [
    {
     "name": "stdout",
     "output_type": "stream",
     "text": [
      "0.5977528570658116 0.5855599720258595\n"
     ]
    }
   ],
   "source": [
    "#Modelo de Regresión Lineal\n",
    "from sklearn.linear_model import LinearRegression as Linreg\n",
    "\n",
    "linreg = Linreg()\n",
    "linreg.fit(X_train, y_train)\n",
    "y_pred=linreg.predict(X_test)\n",
    "#Test\n",
    "train_score=linreg.score(X_train, y_train)\n",
    "test_score=linreg.score(X_test, y_test)\n",
    "print (train_score, test_score)"
   ]
  },
  {
   "cell_type": "code",
   "execution_count": 22,
   "metadata": {},
   "outputs": [
    {
     "name": "stdout",
     "output_type": "stream",
     "text": [
      "0.5967235441604666 0.5834323244079197\n"
     ]
    }
   ],
   "source": [
    "#Modelo de Lasso\n",
    "from sklearn.linear_model import Lasso\n",
    "\n",
    "lasso=Lasso()\n",
    "lasso.fit(X_train, y_train)\n",
    "\n",
    "#Test\n",
    "train_score=lasso.score(X_train, y_train)\n",
    "test_score=lasso.score(X_test, y_test)\n",
    "print (train_score, test_score)"
   ]
  },
  {
   "cell_type": "code",
   "execution_count": 26,
   "metadata": {},
   "outputs": [
    {
     "name": "stdout",
     "output_type": "stream",
     "text": [
      "0.5977505583158635 0.5855030501454649\n"
     ]
    }
   ],
   "source": [
    "#Modelo de Ridge\n",
    "from sklearn.linear_model import Ridge\n",
    "\n",
    "ridge=Ridge()\n",
    "ridge.fit(X_train, y_train)\n",
    "train_score=ridge.score(X_train, y_train)\n",
    "test_score=ridge.score(X_test, y_test)\n",
    "print (train_score, test_score)"
   ]
  },
  {
   "cell_type": "code",
   "execution_count": 27,
   "metadata": {},
   "outputs": [
    {
     "name": "stdout",
     "output_type": "stream",
     "text": [
      "0.5964752642192956 0.5835579532861668\n"
     ]
    }
   ],
   "source": [
    "#Modelo de ElasticNet\n",
    "from sklearn.linear_model import ElasticNet\n",
    "\n",
    "ridge=Ridge()\n",
    "elastic=ElasticNet()\n",
    "elastic.fit(X_train, y_train)\n",
    "train_score=elastic.score(X_train, y_train)\n",
    "test_score=elastic.score(X_test, y_test)\n",
    "print (train_score, test_score)"
   ]
  },
  {
   "cell_type": "code",
   "execution_count": 28,
   "metadata": {},
   "outputs": [
    {
     "name": "stdout",
     "output_type": "stream",
     "text": [
      "-0.42070725439706314 -0.4018956649454939\n"
     ]
    }
   ],
   "source": [
    "#Model SVR\n",
    "from sklearn.svm import SVR\n",
    "\n",
    "svr=SVR()\n",
    "svr.fit(X_train, y_train)\n",
    "train_score=svr.score(X_train, y_train)\n",
    "test_score=svr.score(X_test, y_test)\n",
    "print (train_score, test_score)"
   ]
  },
  {
   "cell_type": "code",
   "execution_count": 29,
   "metadata": {},
   "outputs": [
    {
     "name": "stdout",
     "output_type": "stream",
     "text": [
      "0.9828099714437195 0.8861968033480797\n"
     ]
    }
   ],
   "source": [
    "#Modelo Random Forest\n",
    "from sklearn.ensemble import RandomForestRegressor as RFR\n",
    "\n",
    "rf=RFR()\n",
    "rf.fit(X_train, y_train)\n",
    "train_score=rf.score(X_train, y_train)\n",
    "test_score=rf.score(X_test, y_test)\n",
    "print (train_score, test_score)"
   ]
  },
  {
   "cell_type": "code",
   "execution_count": 30,
   "metadata": {},
   "outputs": [],
   "source": [
    "from sklearn.model_selection import GridSearchCV\n",
    "def grid(modelo, param, cv=5):\n",
    "    grid=GridSearchCV(modelo, param, cv=cv, \n",
    "                      iid=True, return_train_score=True, n_jobs=-1)\n",
    "    \n",
    "    grid.fit(X_train, y_train)\n",
    "    \n",
    "    print('Acierto test: {:.2f}'.format(grid.score(X_test, y_test)))\n",
    "    print('Acierto train: {:.2f}'.format(grid.score(X_train, y_train)))\n",
    "    print('Mejores parametros: {}'.format(grid.best_params_))\n",
    "    print('Mejor acierto cv: {:.2f}'.format(grid.best_score_))\n",
    "    \n",
    "    return grid.best_estimator_.fit(X_train, y_train)"
   ]
  },
  {
   "cell_type": "code",
   "execution_count": 31,
   "metadata": {},
   "outputs": [
    {
     "name": "stdout",
     "output_type": "stream",
     "text": [
      "Acierto test: 0.69\n",
      "Acierto train: 0.71\n",
      "Mejores parametros: {'max_leaf_nodes': 20, 'n_estimators': 100}\n",
      "Mejor acierto cv: 0.70\n"
     ]
    },
    {
     "data": {
      "text/plain": [
       "RandomForestRegressor(bootstrap=True, ccp_alpha=0.0, criterion='mse',\n",
       "                      max_depth=None, max_features='auto', max_leaf_nodes=20,\n",
       "                      max_samples=None, min_impurity_decrease=0.0,\n",
       "                      min_impurity_split=None, min_samples_leaf=1,\n",
       "                      min_samples_split=2, min_weight_fraction_leaf=0.0,\n",
       "                      n_estimators=100, n_jobs=None, oob_score=False,\n",
       "                      random_state=None, verbose=0, warm_start=False)"
      ]
     },
     "execution_count": 31,
     "metadata": {},
     "output_type": "execute_result"
    }
   ],
   "source": [
    "param={'max_leaf_nodes':[5,10,20], 'n_estimators':[10,50,100,500]}\n",
    "grid(rf, param)"
   ]
  },
  {
   "cell_type": "code",
   "execution_count": 32,
   "metadata": {},
   "outputs": [
    {
     "name": "stdout",
     "output_type": "stream",
     "text": [
      "-8.73058550732199e+37 -8.791153413166697e+37\n"
     ]
    }
   ],
   "source": [
    "#Modelo SGDR\n",
    "from sklearn.linear_model import SGDRegressor as SGDR\n",
    "\n",
    "sgdr=SGDR(max_iter=100000)\n",
    "sgdr.fit(X_train, y_train)\n",
    "train_score=sgdr.score(X_train, y_train)\n",
    "test_score=sgdr.score(X_test, y_test)\n",
    "print (train_score, test_score)"
   ]
  },
  {
   "cell_type": "code",
   "execution_count": 33,
   "metadata": {},
   "outputs": [
    {
     "name": "stdout",
     "output_type": "stream",
     "text": [
      "0.7778786644190365 0.7627177170709625\n"
     ]
    }
   ],
   "source": [
    "# GBR\n",
    "from sklearn.ensemble import GradientBoostingRegressor as GBR\n",
    "\n",
    "gbr=GBR()\n",
    "gbr.fit(X_train, y_train)\n",
    "\n",
    "train_score=gbr.score(X_train, y_train)\n",
    "test_score=gbr.score(X_test, y_test)\n",
    "\n",
    "print (train_score, test_score)"
   ]
  },
  {
   "cell_type": "code",
   "execution_count": 34,
   "metadata": {},
   "outputs": [
    {
     "name": "stdout",
     "output_type": "stream",
     "text": [
      "[10:39:22] WARNING: src/objective/regression_obj.cu:152: reg:linear is now deprecated in favor of reg:squarederror.\n",
      "0.7775393213377497 0.7653262412596309\n"
     ]
    }
   ],
   "source": [
    "# XGBR\n",
    "from xgboost import XGBRegressor as XGBR\n",
    "\n",
    "xgbr=XGBR()\n",
    "xgbr.fit(X_train, y_train)\n",
    "\n",
    "train_score=xgbr.score(X_train, y_train)\n",
    "test_score=xgbr.score(X_test, y_test)\n",
    "\n",
    "print (train_score, test_score)"
   ]
  },
  {
   "cell_type": "code",
   "execution_count": 35,
   "metadata": {},
   "outputs": [
    {
     "name": "stdout",
     "output_type": "stream",
     "text": [
      "0.9127001007360173 0.8747842127784995\n"
     ]
    }
   ],
   "source": [
    "# CTR\n",
    "from catboost import CatBoostRegressor as CTR\n",
    "\n",
    "ctr=CTR(verbose=False)\n",
    "ctr.fit(X_train, y_train)\n",
    "\n",
    "train_score=ctr.score(X_train, y_train)\n",
    "test_score=ctr.score(X_test, y_test)\n",
    "\n",
    "print (train_score, test_score)"
   ]
  },
  {
   "cell_type": "code",
   "execution_count": 36,
   "metadata": {},
   "outputs": [
    {
     "name": "stdout",
     "output_type": "stream",
     "text": [
      "0.8952493243115632 0.8682740780763015\n"
     ]
    }
   ],
   "source": [
    "#LightGBM\n",
    "from lightgbm import LGBMRegressor as LGBMR\n",
    "\n",
    "lgbmr=LGBMR()\n",
    "lgbmr.fit(X_train, y_train)\n",
    "\n",
    "train_score=lgbmr.score(X_train, y_train)\n",
    "test_score=lgbmr.score(X_test, y_test)\n",
    "\n",
    "print (train_score, test_score)"
   ]
  },
  {
   "cell_type": "markdown",
   "metadata": {},
   "source": [
    "## 4.2. Selección de combinación de modelos"
   ]
  },
  {
   "cell_type": "code",
   "execution_count": 37,
   "metadata": {},
   "outputs": [],
   "source": [
    "#Stacking de los mejores metodos:\n",
    "#Combinacion de todos los métodos con muestras pequeñas. Regresa la mejor combinación de métodos\n",
    "\n",
    "from mlxtend.regressor import StackingRegressor\n",
    "\n",
    "sample_solar_train = solar_train.sample(n=1000, random_state=1)\n",
    "\n",
    "Xs=sample_solar_train.drop(columns='Radiation', axis=1)\n",
    "ys=sample_solar_train.Radiation\n",
    "\n",
    "#Conjuntos para prueba\n",
    "Xs_train, Xs_test, ys_train, ys_test = train_test_split(Xs, ys, test_size=0.2)"
   ]
  },
  {
   "cell_type": "markdown",
   "metadata": {},
   "source": [
    "# 5. Revisión de Funcionalidad"
   ]
  },
  {
   "cell_type": "code",
   "execution_count": 38,
   "metadata": {},
   "outputs": [
    {
     "name": "stdout",
     "output_type": "stream",
     "text": [
      "0.9852836001826769\n"
     ]
    }
   ],
   "source": [
    "#Preparando conjuntos para entrenamiento y prueba\n",
    "\n",
    "X=solar_train.drop(columns='Radiation', axis=1)\n",
    "y=solar_train.Radiation\n",
    "\n",
    "#Reentrenar con todos los datos\n",
    "X_train = X\n",
    "y_train = y\n",
    "\n",
    "#Modelo Random Forest\n",
    "rf=RFR()\n",
    "rf.fit(X_train, y_train)\n",
    "train_score=rf.score(X_train, y_train)\n",
    "print (train_score)"
   ]
  },
  {
   "cell_type": "code",
   "execution_count": 39,
   "metadata": {},
   "outputs": [],
   "source": [
    "X_predict=solar_test"
   ]
  },
  {
   "cell_type": "code",
   "execution_count": 40,
   "metadata": {},
   "outputs": [],
   "source": [
    "y_predict=rf.predict(X_predict)"
   ]
  },
  {
   "cell_type": "code",
   "execution_count": 41,
   "metadata": {},
   "outputs": [],
   "source": [
    "y_predict=pd.DataFrame(y_predict)\n",
    "y_predict['id']=y_predict.index"
   ]
  },
  {
   "cell_type": "code",
   "execution_count": 42,
   "metadata": {},
   "outputs": [],
   "source": [
    "y_predict.columns = ['Radiation','id']"
   ]
  },
  {
   "cell_type": "code",
   "execution_count": 43,
   "metadata": {},
   "outputs": [
    {
     "data": {
      "text/html": [
       "<div>\n",
       "<style scoped>\n",
       "    .dataframe tbody tr th:only-of-type {\n",
       "        vertical-align: middle;\n",
       "    }\n",
       "\n",
       "    .dataframe tbody tr th {\n",
       "        vertical-align: top;\n",
       "    }\n",
       "\n",
       "    .dataframe thead th {\n",
       "        text-align: right;\n",
       "    }\n",
       "</style>\n",
       "<table border=\"1\" class=\"dataframe\">\n",
       "  <thead>\n",
       "    <tr style=\"text-align: right;\">\n",
       "      <th></th>\n",
       "      <th>id</th>\n",
       "      <th>Radiation</th>\n",
       "    </tr>\n",
       "  </thead>\n",
       "  <tbody>\n",
       "    <tr>\n",
       "      <th>0</th>\n",
       "      <td>0</td>\n",
       "      <td>700.253414</td>\n",
       "    </tr>\n",
       "    <tr>\n",
       "      <th>1</th>\n",
       "      <td>1</td>\n",
       "      <td>860.100998</td>\n",
       "    </tr>\n",
       "    <tr>\n",
       "      <th>2</th>\n",
       "      <td>2</td>\n",
       "      <td>4.201000</td>\n",
       "    </tr>\n",
       "    <tr>\n",
       "      <th>3</th>\n",
       "      <td>3</td>\n",
       "      <td>10.780200</td>\n",
       "    </tr>\n",
       "    <tr>\n",
       "      <th>4</th>\n",
       "      <td>4</td>\n",
       "      <td>1.357200</td>\n",
       "    </tr>\n",
       "    <tr>\n",
       "      <th>...</th>\n",
       "      <td>...</td>\n",
       "      <td>...</td>\n",
       "    </tr>\n",
       "    <tr>\n",
       "      <th>8167</th>\n",
       "      <td>8167</td>\n",
       "      <td>358.438701</td>\n",
       "    </tr>\n",
       "    <tr>\n",
       "      <th>8168</th>\n",
       "      <td>8168</td>\n",
       "      <td>1.237900</td>\n",
       "    </tr>\n",
       "    <tr>\n",
       "      <th>8169</th>\n",
       "      <td>8169</td>\n",
       "      <td>8.196900</td>\n",
       "    </tr>\n",
       "    <tr>\n",
       "      <th>8170</th>\n",
       "      <td>8170</td>\n",
       "      <td>2.797000</td>\n",
       "    </tr>\n",
       "    <tr>\n",
       "      <th>8171</th>\n",
       "      <td>8171</td>\n",
       "      <td>892.907696</td>\n",
       "    </tr>\n",
       "  </tbody>\n",
       "</table>\n",
       "<p>8172 rows × 2 columns</p>\n",
       "</div>"
      ],
      "text/plain": [
       "        id   Radiation\n",
       "0        0  700.253414\n",
       "1        1  860.100998\n",
       "2        2    4.201000\n",
       "3        3   10.780200\n",
       "4        4    1.357200\n",
       "...    ...         ...\n",
       "8167  8167  358.438701\n",
       "8168  8168    1.237900\n",
       "8169  8169    8.196900\n",
       "8170  8170    2.797000\n",
       "8171  8171  892.907696\n",
       "\n",
       "[8172 rows x 2 columns]"
      ]
     },
     "execution_count": 43,
     "metadata": {},
     "output_type": "execute_result"
    }
   ],
   "source": [
    "y_predict=y_predict[['id','Radiation']]\n",
    "y_predict"
   ]
  },
  {
   "cell_type": "markdown",
   "metadata": {},
   "source": [
    "## Parámetros del modelo para Summition en Kaggel"
   ]
  },
  {
   "cell_type": "code",
   "execution_count": 44,
   "metadata": {},
   "outputs": [],
   "source": [
    "y_predict.to_csv('submission.csv', index=False)"
   ]
  },
  {
   "cell_type": "code",
   "execution_count": 45,
   "metadata": {},
   "outputs": [],
   "source": [
    "#kaggle.api.authenticate()"
   ]
  },
  {
   "cell_type": "code",
   "execution_count": 46,
   "metadata": {},
   "outputs": [],
   "source": [
    "#kaggle.api.competition_submit('submission.csv','First try  - Alberto Ibarra','data0120')\n",
    "\n",
    "#kaggle competitions submit -c datamex0120 -f submission.csv -m \"Message\""
   ]
  }
 ],
 "metadata": {
  "kernelspec": {
   "display_name": "Python 3",
   "language": "python",
   "name": "python3"
  },
  "language_info": {
   "codemirror_mode": {
    "name": "ipython",
    "version": 3
   },
   "file_extension": ".py",
   "mimetype": "text/x-python",
   "name": "python",
   "nbconvert_exporter": "python",
   "pygments_lexer": "ipython3",
   "version": "3.7.6"
  }
 },
 "nbformat": 4,
 "nbformat_minor": 4
}
